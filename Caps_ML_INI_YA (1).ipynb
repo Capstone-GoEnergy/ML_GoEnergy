{
  "nbformat": 4,
  "nbformat_minor": 0,
  "metadata": {
    "colab": {
      "provenance": []
    },
    "kernelspec": {
      "name": "python3",
      "display_name": "Python 3"
    },
    "language_info": {
      "name": "python"
    }
  },
  "cells": [
    {
      "cell_type": "markdown",
      "source": [
        "### Import Libraries"
      ],
      "metadata": {
        "id": "R3lTCAJlb5hb"
      }
    },
    {
      "cell_type": "code",
      "execution_count": 1,
      "metadata": {
        "id": "msnNWk7ORt-X"
      },
      "outputs": [],
      "source": [
        "from sklearn.model_selection import train_test_split\n",
        "from sklearn.preprocessing import StandardScaler, OneHotEncoder\n",
        "from sklearn.compose import ColumnTransformer\n",
        "from sklearn.pipeline import Pipeline\n",
        "from sklearn.metrics import classification_report\n",
        "import tensorflow as tf\n",
        "from tensorflow.keras.models import Sequential\n",
        "from tensorflow.keras.layers import Dense, Dropout\n",
        "\n",
        "from sklearn.model_selection import train_test_split # Import train_test_split\n",
        "import pandas as pd\n",
        "import numpy as np\n",
        "from imblearn.over_sampling import SMOTE\n",
        "import matplotlib.pyplot as plt\n",
        "import seaborn as sns"
      ]
    },
    {
      "cell_type": "code",
      "source": [
        "!pip install tensorflowjs\n",
        "import tensorflowjs as tfjs\n",
        "\n",
        "import numpy as np\n",
        "from keras.models import Sequential\n",
        "from keras.layers import Dense\n",
        "import tensorflow as tf"
      ],
      "metadata": {
        "colab": {
          "base_uri": "https://localhost:8080/",
          "height": 1000
        },
        "id": "2e_EEjrnPZxL",
        "outputId": "2e4a9db1-1ed5-49c0-8153-68435b6f0dd6"
      },
      "execution_count": 2,
      "outputs": [
        {
          "output_type": "stream",
          "name": "stdout",
          "text": [
            "Requirement already satisfied: tensorflowjs in /usr/local/lib/python3.11/dist-packages (4.22.0)\n",
            "Requirement already satisfied: flax>=0.7.2 in /usr/local/lib/python3.11/dist-packages (from tensorflowjs) (0.10.6)\n",
            "Requirement already satisfied: importlib_resources>=5.9.0 in /usr/local/lib/python3.11/dist-packages (from tensorflowjs) (6.5.2)\n",
            "Requirement already satisfied: jax>=0.4.13 in /usr/local/lib/python3.11/dist-packages (from tensorflowjs) (0.5.2)\n",
            "Requirement already satisfied: jaxlib>=0.4.13 in /usr/local/lib/python3.11/dist-packages (from tensorflowjs) (0.5.1)\n",
            "Requirement already satisfied: tensorflow<3,>=2.13.0 in /usr/local/lib/python3.11/dist-packages (from tensorflowjs) (2.18.0)\n",
            "Requirement already satisfied: tf-keras>=2.13.0 in /usr/local/lib/python3.11/dist-packages (from tensorflowjs) (2.18.0)\n",
            "Requirement already satisfied: tensorflow-decision-forests>=1.5.0 in /usr/local/lib/python3.11/dist-packages (from tensorflowjs) (1.11.0)\n",
            "Requirement already satisfied: six<2,>=1.16.0 in /usr/local/lib/python3.11/dist-packages (from tensorflowjs) (1.17.0)\n",
            "Requirement already satisfied: tensorflow-hub>=0.16.1 in /usr/local/lib/python3.11/dist-packages (from tensorflowjs) (0.16.1)\n",
            "Requirement already satisfied: packaging~=23.1 in /usr/local/lib/python3.11/dist-packages (from tensorflowjs) (23.2)\n",
            "Requirement already satisfied: numpy>=1.23.2 in /usr/local/lib/python3.11/dist-packages (from flax>=0.7.2->tensorflowjs) (2.0.2)\n",
            "Requirement already satisfied: msgpack in /usr/local/lib/python3.11/dist-packages (from flax>=0.7.2->tensorflowjs) (1.1.0)\n",
            "Requirement already satisfied: optax in /usr/local/lib/python3.11/dist-packages (from flax>=0.7.2->tensorflowjs) (0.2.4)\n",
            "Requirement already satisfied: orbax-checkpoint in /usr/local/lib/python3.11/dist-packages (from flax>=0.7.2->tensorflowjs) (0.11.13)\n",
            "Requirement already satisfied: tensorstore in /usr/local/lib/python3.11/dist-packages (from flax>=0.7.2->tensorflowjs) (0.1.74)\n",
            "Requirement already satisfied: rich>=11.1 in /usr/local/lib/python3.11/dist-packages (from flax>=0.7.2->tensorflowjs) (13.9.4)\n",
            "Requirement already satisfied: typing_extensions>=4.2 in /usr/local/lib/python3.11/dist-packages (from flax>=0.7.2->tensorflowjs) (4.14.0)\n",
            "Requirement already satisfied: PyYAML>=5.4.1 in /usr/local/lib/python3.11/dist-packages (from flax>=0.7.2->tensorflowjs) (6.0.2)\n",
            "Requirement already satisfied: treescope>=0.1.7 in /usr/local/lib/python3.11/dist-packages (from flax>=0.7.2->tensorflowjs) (0.1.9)\n",
            "Requirement already satisfied: ml_dtypes>=0.4.0 in /usr/local/lib/python3.11/dist-packages (from jax>=0.4.13->tensorflowjs) (0.4.1)\n",
            "Requirement already satisfied: opt_einsum in /usr/local/lib/python3.11/dist-packages (from jax>=0.4.13->tensorflowjs) (3.4.0)\n",
            "Requirement already satisfied: scipy>=1.11.1 in /usr/local/lib/python3.11/dist-packages (from jax>=0.4.13->tensorflowjs) (1.15.3)\n",
            "Requirement already satisfied: absl-py>=1.0.0 in /usr/local/lib/python3.11/dist-packages (from tensorflow<3,>=2.13.0->tensorflowjs) (1.4.0)\n",
            "Requirement already satisfied: astunparse>=1.6.0 in /usr/local/lib/python3.11/dist-packages (from tensorflow<3,>=2.13.0->tensorflowjs) (1.6.3)\n",
            "Requirement already satisfied: flatbuffers>=24.3.25 in /usr/local/lib/python3.11/dist-packages (from tensorflow<3,>=2.13.0->tensorflowjs) (25.2.10)\n",
            "Requirement already satisfied: gast!=0.5.0,!=0.5.1,!=0.5.2,>=0.2.1 in /usr/local/lib/python3.11/dist-packages (from tensorflow<3,>=2.13.0->tensorflowjs) (0.6.0)\n",
            "Requirement already satisfied: google-pasta>=0.1.1 in /usr/local/lib/python3.11/dist-packages (from tensorflow<3,>=2.13.0->tensorflowjs) (0.2.0)\n",
            "Requirement already satisfied: libclang>=13.0.0 in /usr/local/lib/python3.11/dist-packages (from tensorflow<3,>=2.13.0->tensorflowjs) (18.1.1)\n",
            "Requirement already satisfied: protobuf!=4.21.0,!=4.21.1,!=4.21.2,!=4.21.3,!=4.21.4,!=4.21.5,<6.0.0dev,>=3.20.3 in /usr/local/lib/python3.11/dist-packages (from tensorflow<3,>=2.13.0->tensorflowjs) (5.29.5)\n",
            "Requirement already satisfied: requests<3,>=2.21.0 in /usr/local/lib/python3.11/dist-packages (from tensorflow<3,>=2.13.0->tensorflowjs) (2.32.3)\n",
            "Requirement already satisfied: setuptools in /usr/local/lib/python3.11/dist-packages (from tensorflow<3,>=2.13.0->tensorflowjs) (75.2.0)\n",
            "Requirement already satisfied: termcolor>=1.1.0 in /usr/local/lib/python3.11/dist-packages (from tensorflow<3,>=2.13.0->tensorflowjs) (3.1.0)\n",
            "Requirement already satisfied: wrapt>=1.11.0 in /usr/local/lib/python3.11/dist-packages (from tensorflow<3,>=2.13.0->tensorflowjs) (1.17.2)\n",
            "Requirement already satisfied: grpcio<2.0,>=1.24.3 in /usr/local/lib/python3.11/dist-packages (from tensorflow<3,>=2.13.0->tensorflowjs) (1.72.1)\n",
            "Requirement already satisfied: tensorboard<2.19,>=2.18 in /usr/local/lib/python3.11/dist-packages (from tensorflow<3,>=2.13.0->tensorflowjs) (2.18.0)\n",
            "Requirement already satisfied: keras>=3.5.0 in /usr/local/lib/python3.11/dist-packages (from tensorflow<3,>=2.13.0->tensorflowjs) (3.8.0)\n",
            "Requirement already satisfied: h5py>=3.11.0 in /usr/local/lib/python3.11/dist-packages (from tensorflow<3,>=2.13.0->tensorflowjs) (3.13.0)\n",
            "Requirement already satisfied: tensorflow-io-gcs-filesystem>=0.23.1 in /usr/local/lib/python3.11/dist-packages (from tensorflow<3,>=2.13.0->tensorflowjs) (0.37.1)\n",
            "Requirement already satisfied: pandas in /usr/local/lib/python3.11/dist-packages (from tensorflow-decision-forests>=1.5.0->tensorflowjs) (2.2.2)\n",
            "Requirement already satisfied: wheel in /usr/local/lib/python3.11/dist-packages (from tensorflow-decision-forests>=1.5.0->tensorflowjs) (0.45.1)\n",
            "Requirement already satisfied: wurlitzer in /usr/local/lib/python3.11/dist-packages (from tensorflow-decision-forests>=1.5.0->tensorflowjs) (3.1.1)\n",
            "Requirement already satisfied: ydf in /usr/local/lib/python3.11/dist-packages (from tensorflow-decision-forests>=1.5.0->tensorflowjs) (0.12.0)\n",
            "Requirement already satisfied: namex in /usr/local/lib/python3.11/dist-packages (from keras>=3.5.0->tensorflow<3,>=2.13.0->tensorflowjs) (0.1.0)\n",
            "Requirement already satisfied: optree in /usr/local/lib/python3.11/dist-packages (from keras>=3.5.0->tensorflow<3,>=2.13.0->tensorflowjs) (0.16.0)\n",
            "Requirement already satisfied: charset-normalizer<4,>=2 in /usr/local/lib/python3.11/dist-packages (from requests<3,>=2.21.0->tensorflow<3,>=2.13.0->tensorflowjs) (3.4.2)\n",
            "Requirement already satisfied: idna<4,>=2.5 in /usr/local/lib/python3.11/dist-packages (from requests<3,>=2.21.0->tensorflow<3,>=2.13.0->tensorflowjs) (3.10)\n",
            "Requirement already satisfied: urllib3<3,>=1.21.1 in /usr/local/lib/python3.11/dist-packages (from requests<3,>=2.21.0->tensorflow<3,>=2.13.0->tensorflowjs) (2.4.0)\n",
            "Requirement already satisfied: certifi>=2017.4.17 in /usr/local/lib/python3.11/dist-packages (from requests<3,>=2.21.0->tensorflow<3,>=2.13.0->tensorflowjs) (2025.4.26)\n",
            "Requirement already satisfied: markdown-it-py>=2.2.0 in /usr/local/lib/python3.11/dist-packages (from rich>=11.1->flax>=0.7.2->tensorflowjs) (3.0.0)\n",
            "Requirement already satisfied: pygments<3.0.0,>=2.13.0 in /usr/local/lib/python3.11/dist-packages (from rich>=11.1->flax>=0.7.2->tensorflowjs) (2.19.1)\n",
            "Requirement already satisfied: markdown>=2.6.8 in /usr/local/lib/python3.11/dist-packages (from tensorboard<2.19,>=2.18->tensorflow<3,>=2.13.0->tensorflowjs) (3.8)\n",
            "Requirement already satisfied: tensorboard-data-server<0.8.0,>=0.7.0 in /usr/local/lib/python3.11/dist-packages (from tensorboard<2.19,>=2.18->tensorflow<3,>=2.13.0->tensorflowjs) (0.7.2)\n",
            "Requirement already satisfied: werkzeug>=1.0.1 in /usr/local/lib/python3.11/dist-packages (from tensorboard<2.19,>=2.18->tensorflow<3,>=2.13.0->tensorflowjs) (3.1.3)\n",
            "Requirement already satisfied: chex>=0.1.87 in /usr/local/lib/python3.11/dist-packages (from optax->flax>=0.7.2->tensorflowjs) (0.1.89)\n",
            "Requirement already satisfied: etils[epy] in /usr/local/lib/python3.11/dist-packages (from optax->flax>=0.7.2->tensorflowjs) (1.12.2)\n",
            "Requirement already satisfied: nest_asyncio in /usr/local/lib/python3.11/dist-packages (from orbax-checkpoint->flax>=0.7.2->tensorflowjs) (1.6.0)\n",
            "Requirement already satisfied: humanize in /usr/local/lib/python3.11/dist-packages (from orbax-checkpoint->flax>=0.7.2->tensorflowjs) (4.12.3)\n",
            "Requirement already satisfied: simplejson>=3.16.0 in /usr/local/lib/python3.11/dist-packages (from orbax-checkpoint->flax>=0.7.2->tensorflowjs) (3.20.1)\n",
            "Requirement already satisfied: python-dateutil>=2.8.2 in /usr/local/lib/python3.11/dist-packages (from pandas->tensorflow-decision-forests>=1.5.0->tensorflowjs) (2.9.0.post0)\n",
            "Requirement already satisfied: pytz>=2020.1 in /usr/local/lib/python3.11/dist-packages (from pandas->tensorflow-decision-forests>=1.5.0->tensorflowjs) (2025.2)\n",
            "Requirement already satisfied: tzdata>=2022.7 in /usr/local/lib/python3.11/dist-packages (from pandas->tensorflow-decision-forests>=1.5.0->tensorflowjs) (2025.2)\n",
            "Requirement already satisfied: toolz>=0.9.0 in /usr/local/lib/python3.11/dist-packages (from chex>=0.1.87->optax->flax>=0.7.2->tensorflowjs) (0.12.1)\n",
            "Requirement already satisfied: mdurl~=0.1 in /usr/local/lib/python3.11/dist-packages (from markdown-it-py>=2.2.0->rich>=11.1->flax>=0.7.2->tensorflowjs) (0.1.2)\n",
            "Requirement already satisfied: MarkupSafe>=2.1.1 in /usr/local/lib/python3.11/dist-packages (from werkzeug>=1.0.1->tensorboard<2.19,>=2.18->tensorflow<3,>=2.13.0->tensorflowjs) (3.0.2)\n",
            "Requirement already satisfied: fsspec in /usr/local/lib/python3.11/dist-packages (from etils[epath,epy]->orbax-checkpoint->flax>=0.7.2->tensorflowjs) (2025.3.2)\n",
            "Requirement already satisfied: zipp in /usr/local/lib/python3.11/dist-packages (from etils[epath,epy]->orbax-checkpoint->flax>=0.7.2->tensorflowjs) (3.22.0)\n"
          ]
        },
        {
          "output_type": "display_data",
          "data": {
            "text/plain": [
              "<IPython.core.display.HTML object>"
            ],
            "text/html": [
              "\n",
              "<p style=\"margin:0px;\">🌲 Try <a href=\"https://ydf.readthedocs.io/en/latest/\" target=\"_blank\">YDF</a>, the successor of\n",
              "    <a href=\"https://www.tensorflow.org/decision_forests\" target=\"_blank\">TensorFlow\n",
              "        Decision Forests</a> using the same algorithms but with more features and faster\n",
              "    training!\n",
              "</p>\n",
              "<div style=\"display: flex; flex-wrap: wrap; margin:5px;max-width: 880px;\">\n",
              "    <div style=\"flex: 1; border-radius: 10px; background-color: F0F0F0; padding: 5px;\">\n",
              "        <p\n",
              "            style=\"font-weight: bold; margin:0px;text-align: center;border-bottom: 1px solid #C0C0C0;margin-bottom: 4px;\">\n",
              "            Old code</p>\n",
              "        <pre style=\"overflow-wrap: anywhere; overflow: auto; margin:0px;font-size: 9pt;\">\n",
              "import tensorflow_decision_forests as tfdf\n",
              "\n",
              "tf_ds = tfdf.keras.pd_dataframe_to_tf_dataset(ds, label=\"l\")\n",
              "model = tfdf.keras.RandomForestModel(label=\"l\")\n",
              "model.fit(tf_ds)\n",
              "</pre>\n",
              "    </div>\n",
              "    <div style=\"width: 5px;\"></div>\n",
              "    <div style=\"flex: 1; border-radius: 10px; background-color: F0F0F0; padding: 5px;\">\n",
              "        <p\n",
              "            style=\"font-weight: bold; margin:0px;text-align: center;border-bottom: 1px solid #C0C0C0;margin-bottom: 4px;\">\n",
              "            New code</p>\n",
              "        <pre style=\"overflow-wrap: anywhere; overflow: auto; margin:0px;font-size: 9pt;\">\n",
              "import ydf\n",
              "\n",
              "model = ydf.RandomForestLearner(label=\"l\").train(ds)\n",
              "</pre>\n",
              "    </div>\n",
              "</div>\n",
              "<p style=\"margin:0px;font-size: 9pt;\">(Learn more in the <a\n",
              "        href=\"https://ydf.readthedocs.io/en/latest/tutorial/migrating_to_ydf/\" target=\"_blank\">migration\n",
              "        guide</a>)</p>\n"
            ]
          },
          "metadata": {}
        }
      ]
    },
    {
      "cell_type": "code",
      "source": [
        "from keras.models import Sequential\n",
        "from keras.layers import Dense, InputLayer  # Mengimpor InputLayer\n",
        "from sklearn.model_selection import train_test_split # Import train_test_split"
      ],
      "metadata": {
        "id": "oXMPsmZ_PyTj"
      },
      "execution_count": 3,
      "outputs": []
    },
    {
      "cell_type": "markdown",
      "source": [
        "### Data Loading (data yang sudah bersih)"
      ],
      "metadata": {
        "id": "Xaw_P8VmcC2x"
      }
    },
    {
      "cell_type": "code",
      "source": [
        "dataset = pd.read_csv('/content/datasetcapscleanfix.csv')\n",
        "dataset.head()"
      ],
      "metadata": {
        "id": "G3EcXw9gcIAm",
        "colab": {
          "base_uri": "https://localhost:8080/",
          "height": 328
        },
        "outputId": "648c1425-79ca-48a9-db5c-7c7fb0d65be8"
      },
      "execution_count": 4,
      "outputs": [
        {
          "output_type": "execute_result",
          "data": {
            "text/plain": [
              "  Device ID      Device Type            Timestamp On/Off Status  \\\n",
              "0         1    Smart Speaker  2024-12-11 06:22:00            On   \n",
              "1         2      Ceiling Fan  2024-12-11 06:22:00            On   \n",
              "2         3  Security System  2024-12-11 06:22:00            On   \n",
              "3         4      Ceiling Fan  2024-12-11 06:22:00            On   \n",
              "4         5      Ceiling Fan  2024-12-11 06:22:00            On   \n",
              "\n",
              "   Energy Consumption (kWh)  Usage Duration (hour)  Energy Cost (Rp)  \\\n",
              "0                  1.961607              15.307188       2652.092416   \n",
              "1                  8.610689              19.973343      11641.651422   \n",
              "2                  2.651777              18.911535       3585.202010   \n",
              "3                  2.341653               7.011127       3165.914978   \n",
              "4                  4.859069              22.610684       6569.461503   \n",
              "\n",
              "   SmartHomeEfficiency  \n",
              "0                    1  \n",
              "1                    1  \n",
              "2                    1  \n",
              "3                    0  \n",
              "4                    1  "
            ],
            "text/html": [
              "\n",
              "  <div id=\"df-7a6a8b4b-fdb0-4b90-baed-ae0f337ad3b2\" class=\"colab-df-container\">\n",
              "    <div>\n",
              "<style scoped>\n",
              "    .dataframe tbody tr th:only-of-type {\n",
              "        vertical-align: middle;\n",
              "    }\n",
              "\n",
              "    .dataframe tbody tr th {\n",
              "        vertical-align: top;\n",
              "    }\n",
              "\n",
              "    .dataframe thead th {\n",
              "        text-align: right;\n",
              "    }\n",
              "</style>\n",
              "<table border=\"1\" class=\"dataframe\">\n",
              "  <thead>\n",
              "    <tr style=\"text-align: right;\">\n",
              "      <th></th>\n",
              "      <th>Device ID</th>\n",
              "      <th>Device Type</th>\n",
              "      <th>Timestamp</th>\n",
              "      <th>On/Off Status</th>\n",
              "      <th>Energy Consumption (kWh)</th>\n",
              "      <th>Usage Duration (hour)</th>\n",
              "      <th>Energy Cost (Rp)</th>\n",
              "      <th>SmartHomeEfficiency</th>\n",
              "    </tr>\n",
              "  </thead>\n",
              "  <tbody>\n",
              "    <tr>\n",
              "      <th>0</th>\n",
              "      <td>1</td>\n",
              "      <td>Smart Speaker</td>\n",
              "      <td>2024-12-11 06:22:00</td>\n",
              "      <td>On</td>\n",
              "      <td>1.961607</td>\n",
              "      <td>15.307188</td>\n",
              "      <td>2652.092416</td>\n",
              "      <td>1</td>\n",
              "    </tr>\n",
              "    <tr>\n",
              "      <th>1</th>\n",
              "      <td>2</td>\n",
              "      <td>Ceiling Fan</td>\n",
              "      <td>2024-12-11 06:22:00</td>\n",
              "      <td>On</td>\n",
              "      <td>8.610689</td>\n",
              "      <td>19.973343</td>\n",
              "      <td>11641.651422</td>\n",
              "      <td>1</td>\n",
              "    </tr>\n",
              "    <tr>\n",
              "      <th>2</th>\n",
              "      <td>3</td>\n",
              "      <td>Security System</td>\n",
              "      <td>2024-12-11 06:22:00</td>\n",
              "      <td>On</td>\n",
              "      <td>2.651777</td>\n",
              "      <td>18.911535</td>\n",
              "      <td>3585.202010</td>\n",
              "      <td>1</td>\n",
              "    </tr>\n",
              "    <tr>\n",
              "      <th>3</th>\n",
              "      <td>4</td>\n",
              "      <td>Ceiling Fan</td>\n",
              "      <td>2024-12-11 06:22:00</td>\n",
              "      <td>On</td>\n",
              "      <td>2.341653</td>\n",
              "      <td>7.011127</td>\n",
              "      <td>3165.914978</td>\n",
              "      <td>0</td>\n",
              "    </tr>\n",
              "    <tr>\n",
              "      <th>4</th>\n",
              "      <td>5</td>\n",
              "      <td>Ceiling Fan</td>\n",
              "      <td>2024-12-11 06:22:00</td>\n",
              "      <td>On</td>\n",
              "      <td>4.859069</td>\n",
              "      <td>22.610684</td>\n",
              "      <td>6569.461503</td>\n",
              "      <td>1</td>\n",
              "    </tr>\n",
              "  </tbody>\n",
              "</table>\n",
              "</div>\n",
              "    <div class=\"colab-df-buttons\">\n",
              "\n",
              "  <div class=\"colab-df-container\">\n",
              "    <button class=\"colab-df-convert\" onclick=\"convertToInteractive('df-7a6a8b4b-fdb0-4b90-baed-ae0f337ad3b2')\"\n",
              "            title=\"Convert this dataframe to an interactive table.\"\n",
              "            style=\"display:none;\">\n",
              "\n",
              "  <svg xmlns=\"http://www.w3.org/2000/svg\" height=\"24px\" viewBox=\"0 -960 960 960\">\n",
              "    <path d=\"M120-120v-720h720v720H120Zm60-500h600v-160H180v160Zm220 220h160v-160H400v160Zm0 220h160v-160H400v160ZM180-400h160v-160H180v160Zm440 0h160v-160H620v160ZM180-180h160v-160H180v160Zm440 0h160v-160H620v160Z\"/>\n",
              "  </svg>\n",
              "    </button>\n",
              "\n",
              "  <style>\n",
              "    .colab-df-container {\n",
              "      display:flex;\n",
              "      gap: 12px;\n",
              "    }\n",
              "\n",
              "    .colab-df-convert {\n",
              "      background-color: #E8F0FE;\n",
              "      border: none;\n",
              "      border-radius: 50%;\n",
              "      cursor: pointer;\n",
              "      display: none;\n",
              "      fill: #1967D2;\n",
              "      height: 32px;\n",
              "      padding: 0 0 0 0;\n",
              "      width: 32px;\n",
              "    }\n",
              "\n",
              "    .colab-df-convert:hover {\n",
              "      background-color: #E2EBFA;\n",
              "      box-shadow: 0px 1px 2px rgba(60, 64, 67, 0.3), 0px 1px 3px 1px rgba(60, 64, 67, 0.15);\n",
              "      fill: #174EA6;\n",
              "    }\n",
              "\n",
              "    .colab-df-buttons div {\n",
              "      margin-bottom: 4px;\n",
              "    }\n",
              "\n",
              "    [theme=dark] .colab-df-convert {\n",
              "      background-color: #3B4455;\n",
              "      fill: #D2E3FC;\n",
              "    }\n",
              "\n",
              "    [theme=dark] .colab-df-convert:hover {\n",
              "      background-color: #434B5C;\n",
              "      box-shadow: 0px 1px 3px 1px rgba(0, 0, 0, 0.15);\n",
              "      filter: drop-shadow(0px 1px 2px rgba(0, 0, 0, 0.3));\n",
              "      fill: #FFFFFF;\n",
              "    }\n",
              "  </style>\n",
              "\n",
              "    <script>\n",
              "      const buttonEl =\n",
              "        document.querySelector('#df-7a6a8b4b-fdb0-4b90-baed-ae0f337ad3b2 button.colab-df-convert');\n",
              "      buttonEl.style.display =\n",
              "        google.colab.kernel.accessAllowed ? 'block' : 'none';\n",
              "\n",
              "      async function convertToInteractive(key) {\n",
              "        const element = document.querySelector('#df-7a6a8b4b-fdb0-4b90-baed-ae0f337ad3b2');\n",
              "        const dataTable =\n",
              "          await google.colab.kernel.invokeFunction('convertToInteractive',\n",
              "                                                    [key], {});\n",
              "        if (!dataTable) return;\n",
              "\n",
              "        const docLinkHtml = 'Like what you see? Visit the ' +\n",
              "          '<a target=\"_blank\" href=https://colab.research.google.com/notebooks/data_table.ipynb>data table notebook</a>'\n",
              "          + ' to learn more about interactive tables.';\n",
              "        element.innerHTML = '';\n",
              "        dataTable['output_type'] = 'display_data';\n",
              "        await google.colab.output.renderOutput(dataTable, element);\n",
              "        const docLink = document.createElement('div');\n",
              "        docLink.innerHTML = docLinkHtml;\n",
              "        element.appendChild(docLink);\n",
              "      }\n",
              "    </script>\n",
              "  </div>\n",
              "\n",
              "\n",
              "    <div id=\"df-1f9b977b-5ea8-4293-91b5-d0b09fb6538a\">\n",
              "      <button class=\"colab-df-quickchart\" onclick=\"quickchart('df-1f9b977b-5ea8-4293-91b5-d0b09fb6538a')\"\n",
              "                title=\"Suggest charts\"\n",
              "                style=\"display:none;\">\n",
              "\n",
              "<svg xmlns=\"http://www.w3.org/2000/svg\" height=\"24px\"viewBox=\"0 0 24 24\"\n",
              "     width=\"24px\">\n",
              "    <g>\n",
              "        <path d=\"M19 3H5c-1.1 0-2 .9-2 2v14c0 1.1.9 2 2 2h14c1.1 0 2-.9 2-2V5c0-1.1-.9-2-2-2zM9 17H7v-7h2v7zm4 0h-2V7h2v10zm4 0h-2v-4h2v4z\"/>\n",
              "    </g>\n",
              "</svg>\n",
              "      </button>\n",
              "\n",
              "<style>\n",
              "  .colab-df-quickchart {\n",
              "      --bg-color: #E8F0FE;\n",
              "      --fill-color: #1967D2;\n",
              "      --hover-bg-color: #E2EBFA;\n",
              "      --hover-fill-color: #174EA6;\n",
              "      --disabled-fill-color: #AAA;\n",
              "      --disabled-bg-color: #DDD;\n",
              "  }\n",
              "\n",
              "  [theme=dark] .colab-df-quickchart {\n",
              "      --bg-color: #3B4455;\n",
              "      --fill-color: #D2E3FC;\n",
              "      --hover-bg-color: #434B5C;\n",
              "      --hover-fill-color: #FFFFFF;\n",
              "      --disabled-bg-color: #3B4455;\n",
              "      --disabled-fill-color: #666;\n",
              "  }\n",
              "\n",
              "  .colab-df-quickchart {\n",
              "    background-color: var(--bg-color);\n",
              "    border: none;\n",
              "    border-radius: 50%;\n",
              "    cursor: pointer;\n",
              "    display: none;\n",
              "    fill: var(--fill-color);\n",
              "    height: 32px;\n",
              "    padding: 0;\n",
              "    width: 32px;\n",
              "  }\n",
              "\n",
              "  .colab-df-quickchart:hover {\n",
              "    background-color: var(--hover-bg-color);\n",
              "    box-shadow: 0 1px 2px rgba(60, 64, 67, 0.3), 0 1px 3px 1px rgba(60, 64, 67, 0.15);\n",
              "    fill: var(--button-hover-fill-color);\n",
              "  }\n",
              "\n",
              "  .colab-df-quickchart-complete:disabled,\n",
              "  .colab-df-quickchart-complete:disabled:hover {\n",
              "    background-color: var(--disabled-bg-color);\n",
              "    fill: var(--disabled-fill-color);\n",
              "    box-shadow: none;\n",
              "  }\n",
              "\n",
              "  .colab-df-spinner {\n",
              "    border: 2px solid var(--fill-color);\n",
              "    border-color: transparent;\n",
              "    border-bottom-color: var(--fill-color);\n",
              "    animation:\n",
              "      spin 1s steps(1) infinite;\n",
              "  }\n",
              "\n",
              "  @keyframes spin {\n",
              "    0% {\n",
              "      border-color: transparent;\n",
              "      border-bottom-color: var(--fill-color);\n",
              "      border-left-color: var(--fill-color);\n",
              "    }\n",
              "    20% {\n",
              "      border-color: transparent;\n",
              "      border-left-color: var(--fill-color);\n",
              "      border-top-color: var(--fill-color);\n",
              "    }\n",
              "    30% {\n",
              "      border-color: transparent;\n",
              "      border-left-color: var(--fill-color);\n",
              "      border-top-color: var(--fill-color);\n",
              "      border-right-color: var(--fill-color);\n",
              "    }\n",
              "    40% {\n",
              "      border-color: transparent;\n",
              "      border-right-color: var(--fill-color);\n",
              "      border-top-color: var(--fill-color);\n",
              "    }\n",
              "    60% {\n",
              "      border-color: transparent;\n",
              "      border-right-color: var(--fill-color);\n",
              "    }\n",
              "    80% {\n",
              "      border-color: transparent;\n",
              "      border-right-color: var(--fill-color);\n",
              "      border-bottom-color: var(--fill-color);\n",
              "    }\n",
              "    90% {\n",
              "      border-color: transparent;\n",
              "      border-bottom-color: var(--fill-color);\n",
              "    }\n",
              "  }\n",
              "</style>\n",
              "\n",
              "      <script>\n",
              "        async function quickchart(key) {\n",
              "          const quickchartButtonEl =\n",
              "            document.querySelector('#' + key + ' button');\n",
              "          quickchartButtonEl.disabled = true;  // To prevent multiple clicks.\n",
              "          quickchartButtonEl.classList.add('colab-df-spinner');\n",
              "          try {\n",
              "            const charts = await google.colab.kernel.invokeFunction(\n",
              "                'suggestCharts', [key], {});\n",
              "          } catch (error) {\n",
              "            console.error('Error during call to suggestCharts:', error);\n",
              "          }\n",
              "          quickchartButtonEl.classList.remove('colab-df-spinner');\n",
              "          quickchartButtonEl.classList.add('colab-df-quickchart-complete');\n",
              "        }\n",
              "        (() => {\n",
              "          let quickchartButtonEl =\n",
              "            document.querySelector('#df-1f9b977b-5ea8-4293-91b5-d0b09fb6538a button');\n",
              "          quickchartButtonEl.style.display =\n",
              "            google.colab.kernel.accessAllowed ? 'block' : 'none';\n",
              "        })();\n",
              "      </script>\n",
              "    </div>\n",
              "\n",
              "    </div>\n",
              "  </div>\n"
            ],
            "application/vnd.google.colaboratory.intrinsic+json": {
              "type": "dataframe",
              "variable_name": "dataset",
              "summary": "{\n  \"name\": \"dataset\",\n  \"rows\": 55403,\n  \"fields\": [\n    {\n      \"column\": \"Device ID\",\n      \"properties\": {\n        \"dtype\": \"category\",\n        \"num_unique_values\": 14359,\n        \"samples\": [\n          \"D-7196\",\n          \"4485\",\n          \"D-4255\"\n        ],\n        \"semantic_type\": \"\",\n        \"description\": \"\"\n      }\n    },\n    {\n      \"column\": \"Device Type\",\n      \"properties\": {\n        \"dtype\": \"category\",\n        \"num_unique_values\": 13,\n        \"samples\": [\n          \"Refrigerator\",\n          \"TV\",\n          \"Smart Speaker\"\n        ],\n        \"semantic_type\": \"\",\n        \"description\": \"\"\n      }\n    },\n    {\n      \"column\": \"Timestamp\",\n      \"properties\": {\n        \"dtype\": \"object\",\n        \"num_unique_values\": 47673,\n        \"samples\": [\n          \"2024-03-03 03:58:00\",\n          \"2024-02-29 23:39:00\",\n          \"2024-10-12 09:40:00\"\n        ],\n        \"semantic_type\": \"\",\n        \"description\": \"\"\n      }\n    },\n    {\n      \"column\": \"On/Off Status\",\n      \"properties\": {\n        \"dtype\": \"category\",\n        \"num_unique_values\": 2,\n        \"samples\": [\n          \"Off\",\n          \"On\"\n        ],\n        \"semantic_type\": \"\",\n        \"description\": \"\"\n      }\n    },\n    {\n      \"column\": \"Energy Consumption (kWh)\",\n      \"properties\": {\n        \"dtype\": \"number\",\n        \"std\": 2.0194226231041257,\n        \"min\": 4.55e-05,\n        \"max\": 9.998070926924637,\n        \"num_unique_values\": 53897,\n        \"samples\": [\n          0.119193,\n          0.3813996666666667\n        ],\n        \"semantic_type\": \"\",\n        \"description\": \"\"\n      }\n    },\n    {\n      \"column\": \"Usage Duration (hour)\",\n      \"properties\": {\n        \"dtype\": \"number\",\n        \"std\": 3.854123003650435,\n        \"min\": 0.0166666666666666,\n        \"max\": 23.98732600490232,\n        \"num_unique_values\": 5582,\n        \"samples\": [\n          3.326367633522261,\n          16.33903222014156\n        ],\n        \"semantic_type\": \"\",\n        \"description\": \"\"\n      }\n    },\n    {\n      \"column\": \"Energy Cost (Rp)\",\n      \"properties\": {\n        \"dtype\": \"number\",\n        \"std\": 3191.8919553003025,\n        \"min\": 0.08736,\n        \"max\": 16658.16064,\n        \"num_unique_values\": 54008,\n        \"samples\": [\n          290.8197328843752,\n          1110.9190400000002\n        ],\n        \"semantic_type\": \"\",\n        \"description\": \"\"\n      }\n    },\n    {\n      \"column\": \"SmartHomeEfficiency\",\n      \"properties\": {\n        \"dtype\": \"number\",\n        \"std\": 0,\n        \"min\": 0,\n        \"max\": 1,\n        \"num_unique_values\": 2,\n        \"samples\": [\n          0,\n          1\n        ],\n        \"semantic_type\": \"\",\n        \"description\": \"\"\n      }\n    }\n  ]\n}"
            }
          },
          "metadata": {},
          "execution_count": 4
        }
      ]
    },
    {
      "cell_type": "code",
      "source": [
        "dataset.info()"
      ],
      "metadata": {
        "colab": {
          "base_uri": "https://localhost:8080/"
        },
        "id": "v0y3OBq79wvL",
        "outputId": "27f642b6-2b07-4d52-c0e0-ce47519b34f1"
      },
      "execution_count": 5,
      "outputs": [
        {
          "output_type": "stream",
          "name": "stdout",
          "text": [
            "<class 'pandas.core.frame.DataFrame'>\n",
            "RangeIndex: 55403 entries, 0 to 55402\n",
            "Data columns (total 8 columns):\n",
            " #   Column                    Non-Null Count  Dtype  \n",
            "---  ------                    --------------  -----  \n",
            " 0   Device ID                 55403 non-null  object \n",
            " 1   Device Type               55403 non-null  object \n",
            " 2   Timestamp                 55403 non-null  object \n",
            " 3   On/Off Status             55403 non-null  object \n",
            " 4   Energy Consumption (kWh)  55403 non-null  float64\n",
            " 5   Usage Duration (hour)     55403 non-null  float64\n",
            " 6   Energy Cost (Rp)          55403 non-null  float64\n",
            " 7   SmartHomeEfficiency       55403 non-null  int64  \n",
            "dtypes: float64(3), int64(1), object(4)\n",
            "memory usage: 3.4+ MB\n"
          ]
        }
      ]
    },
    {
      "cell_type": "code",
      "source": [
        "# Hitung 0 dan 1nya\n",
        "print(dataset['SmartHomeEfficiency'].value_counts())\n"
      ],
      "metadata": {
        "colab": {
          "base_uri": "https://localhost:8080/"
        },
        "id": "T7gl7HVjhuT1",
        "outputId": "ec9412bc-2c37-4abd-877d-7130dd328277"
      },
      "execution_count": 6,
      "outputs": [
        {
          "output_type": "stream",
          "name": "stdout",
          "text": [
            "SmartHomeEfficiency\n",
            "0    42415\n",
            "1    12988\n",
            "Name: count, dtype: int64\n"
          ]
        }
      ]
    },
    {
      "cell_type": "code",
      "source": [
        "coba = dataset.copy()"
      ],
      "metadata": {
        "id": "TjpPQmKYh2Jd"
      },
      "execution_count": 7,
      "outputs": []
    },
    {
      "cell_type": "markdown",
      "source": [
        "### Prepocessing"
      ],
      "metadata": {
        "id": "cGctfnaDgoOV"
      }
    },
    {
      "cell_type": "code",
      "source": [
        "# Drop data yang smarthomeefficiency 0 sesuaikan dengan jumlah 1\n",
        "\n",
        "import pandas as pd\n",
        "import matplotlib.pyplot as plt\n",
        "# Filter data where SmartHomeEfficiency is 1\n",
        "df_ones = coba[coba['SmartHomeEfficiency'] == 1]\n",
        "\n",
        "# Count the number of samples with SmartHomeEfficiency = 1\n",
        "count_ones = len(df_ones)\n",
        "\n",
        "# Filter data where SmartHomeEfficiency is 0\n",
        "df_zeros = coba[coba['SmartHomeEfficiency'] == 0]\n",
        "\n",
        "# Randomly sample the same number of samples as count_ones from df_zeros\n",
        "df_zeros_sampled = df_zeros.sample(n=count_ones, random_state=42) # Use a random_state for reproducibility\n",
        "\n",
        "# Combine the sampled dataframes\n",
        "coba = pd.concat([df_ones, df_zeros_sampled])\n",
        "\n",
        "# Verify the distribution of the target variable in the new dataframe\n",
        "print(\"\\nNew distribution of SmartHomeEfficiency:\")\n",
        "print(coba['SmartHomeEfficiency'].value_counts())\n",
        "\n",
        "# Plot the new distribution\n",
        "plt.figure(figsize=(8, 6))\n",
        "sns.countplot(x='SmartHomeEfficiency', data=coba)\n",
        "plt.title('Jumlah Data dengan SmartHomeEfficiency (Balanced)')\n",
        "plt.xlabel('SmartHomeEfficiency')\n",
        "plt.ylabel('Jumlah Data')\n",
        "plt.show()"
      ],
      "metadata": {
        "colab": {
          "base_uri": "https://localhost:8080/",
          "height": 668
        },
        "id": "AEa9rCGGivBA",
        "outputId": "5017830e-7a19-4d28-f41b-9d085cf1e509"
      },
      "execution_count": 8,
      "outputs": [
        {
          "output_type": "stream",
          "name": "stdout",
          "text": [
            "\n",
            "New distribution of SmartHomeEfficiency:\n",
            "SmartHomeEfficiency\n",
            "1    12988\n",
            "0    12988\n",
            "Name: count, dtype: int64\n"
          ]
        },
        {
          "output_type": "display_data",
          "data": {
            "text/plain": [
              "<Figure size 800x600 with 1 Axes>"
            ],
            "image/png": "[encoded data removed]"
          },
          "metadata": {}
        }
      ]
    },
    {
      "cell_type": "code",
      "source": [
        "# Drop non-numerical columns\n",
        "X = coba.drop(columns=['SmartHomeEfficiency', 'Device ID', 'Device Type', 'Timestamp', 'On/Off Status'])  # Features\n",
        "y = coba['SmartHomeEfficiency']"
      ],
      "metadata": {
        "id": "QOnZM_XPjXcm"
      },
      "execution_count": 9,
      "outputs": []
    },
    {
      "cell_type": "markdown",
      "source": [
        "**Splitting Data**"
      ],
      "metadata": {
        "id": "HrInDSEbgwdF"
      }
    },
    {
      "cell_type": "code",
      "source": [
        "X_train, X_test, y_train, y_test = train_test_split(X, y, test_size=0.2, random_state=42)\n",
        "# Tampilkan bentuk set pelatihan dan set uji untuk memastikan split\n",
        "print(f\"Training set shape: X_train={X_train.shape}, y_train={y_train.shape}\")\n",
        "print(f\"Test set shape: X_test={X_test.shape}, y_test={y_test.shape}\")"
      ],
      "metadata": {
        "colab": {
          "base_uri": "https://localhost:8080/"
        },
        "id": "PEt8vSl4jm5B",
        "outputId": "56e55243-9aa0-4a25-df2b-afbced87ea0b"
      },
      "execution_count": 10,
      "outputs": [
        {
          "output_type": "stream",
          "name": "stdout",
          "text": [
            "Training set shape: X_train=(20780, 3), y_train=(20780,)\n",
            "Test set shape: X_test=(5196, 3), y_test=(5196,)\n"
          ]
        }
      ]
    },
    {
      "cell_type": "code",
      "source": [
        "# SMOTE untuk data train saja\n",
        "smote = SMOTE(random_state=42)\n",
        "X_train_resampled, y_train_resampled = smote.fit_resample(X_train, y_train)"
      ],
      "metadata": {
        "id": "psJcD0w4jsue"
      },
      "execution_count": 11,
      "outputs": []
    },
    {
      "cell_type": "code",
      "source": [
        "# Cek Balancing data train\n",
        "print(y_train_resampled.value_counts())"
      ],
      "metadata": {
        "colab": {
          "base_uri": "https://localhost:8080/"
        },
        "id": "J5nb4gDcjvsL",
        "outputId": "40de6bad-4f1d-40a9-9f31-784800fbac2a"
      },
      "execution_count": 12,
      "outputs": [
        {
          "output_type": "stream",
          "name": "stdout",
          "text": [
            "SmartHomeEfficiency\n",
            "1    10391\n",
            "0    10391\n",
            "Name: count, dtype: int64\n"
          ]
        }
      ]
    },
    {
      "cell_type": "markdown",
      "source": [
        "### Data Modeling"
      ],
      "metadata": {
        "id": "xOJyfKvlbmOd"
      }
    },
    {
      "cell_type": "code",
      "source": [
        "input_dim = X_train.shape[1]"
      ],
      "metadata": {
        "id": "RnYT5r01sL9d"
      },
      "execution_count": 13,
      "outputs": []
    },
    {
      "cell_type": "code",
      "source": [
        "print(X.shape)"
      ],
      "metadata": {
        "colab": {
          "base_uri": "https://localhost:8080/"
        },
        "id": "y1pc3Mkv-9is",
        "outputId": "02858a77-50e8-461e-9bef-62db2dd70e50"
      },
      "execution_count": 14,
      "outputs": [
        {
          "output_type": "stream",
          "name": "stdout",
          "text": [
            "(25976, 3)\n"
          ]
        }
      ]
    },
    {
      "cell_type": "code",
      "source": [
        "# Membuat model dengan 1 hidden layer menggunakan batch_input_shape pada InputLayer\n",
        "model1 = Sequential([\n",
        "    InputLayer(batch_input_shape=(None, input_dim)),\n",
        "    Dense(16, activation='relu'),  # Layer tersembunyi\n",
        "    Dense(1, activation='sigmoid')  # Output layer untuk klasifikasi biner\n",
        "])\n",
        "\n",
        "model1.compile(optimizer='adam', loss='binary_crossentropy', metrics=['accuracy'])\n",
        "\n",
        "print(\"Training Model 1 (1 hidden layer)...\")\n",
        "model1.fit(X_train, y_train, epochs=50, batch_size=4, verbose=0)"
      ],
      "metadata": {
        "colab": {
          "base_uri": "https://localhost:8080/"
        },
        "id": "4VbtbDP7DC_M",
        "outputId": "50e728a7-9d58-4e2b-96a8-4487a6bfee71"
      },
      "execution_count": 15,
      "outputs": [
        {
          "output_type": "stream",
          "name": "stdout",
          "text": [
            "Training Model 1 (1 hidden layer)...\n"
          ]
        },
        {
          "output_type": "execute_result",
          "data": {
            "text/plain": [
              "<keras.src.callbacks.history.History at 0x79925fe92a50>"
            ]
          },
          "metadata": {},
          "execution_count": 15
        }
      ]
    },
    {
      "cell_type": "code",
      "source": [
        "# Evaluasi Model 1 untuk training dan testing\n",
        "loss1, acc1 = model1.evaluate(X_train, y_train, verbose=0)\n",
        "print(f\"Model 1 Training Accuracy: {acc1:.4f}\")\n",
        "\n",
        "loss1, acc1 = model1.evaluate(X_test, y_test, verbose=0)\n",
        "print(f\"Model 1 Test Accuracy: {acc1:.4f}\")\n",
        "\n",
        "y_pred1 = (model1.predict(X_test) > 0.5).astype(\"int32\")\n",
        "print(\"Classification report Model 1:\")\n",
        "print(classification_report(y_test, y_pred1))"
      ],
      "metadata": {
        "id": "EkAs8cTlLQO9",
        "colab": {
          "base_uri": "https://localhost:8080/"
        },
        "outputId": "be0bf757-697d-4c2a-952d-e7350a93c02e"
      },
      "execution_count": 16,
      "outputs": [
        {
          "output_type": "stream",
          "name": "stdout",
          "text": [
            "Model 1 Training Accuracy: 0.9190\n",
            "Model 1 Test Accuracy: 0.9222\n",
            "\u001b[1m163/163\u001b[0m \u001b[32m━━━━━━━━━━━━━━━━━━━━\u001b[0m\u001b[37m\u001b[0m \u001b[1m1s\u001b[0m 3ms/step\n",
            "Classification report Model 1:\n",
            "              precision    recall  f1-score   support\n",
            "\n",
            "           0       0.92      0.92      0.92      2597\n",
            "           1       0.92      0.92      0.92      2599\n",
            "\n",
            "    accuracy                           0.92      5196\n",
            "   macro avg       0.92      0.92      0.92      5196\n",
            "weighted avg       0.92      0.92      0.92      5196\n",
            "\n"
          ]
        }
      ]
    },
    {
      "cell_type": "markdown",
      "source": [
        "### Inferensi"
      ],
      "metadata": {
        "id": "t8x-AxM-LfdF"
      }
    },
    {
      "cell_type": "code",
      "source": [
        "# Fungsi untuk menghitung tarif per KWh berdasarkan daya listrik\n",
        "def get_tarif_per_kwh(daya_listrik):\n",
        "    if daya_listrik == 450:\n",
        "        return 415\n",
        "    elif daya_listrik == 900:\n",
        "        return 1352\n",
        "    elif daya_listrik == 1300:\n",
        "        return 1444\n",
        "    elif daya_listrik == 2200:\n",
        "        return 1444\n",
        "    else:\n",
        "        print(\"Daya listrik tidak valid, tarif default digunakan (Rp. 1.444/kWh).\")\n",
        "        return 1444\n",
        "\n",
        "# Fungsi untuk menghitung konsumsi energi berdasarkan daya perangkat dan durasi penggunaan\n",
        "def calculate_energy_consumption(daya_perangkat, durasi_penggunaan):\n",
        "    # Konsumsi energi = daya perangkat (Watt) * durasi (jam) / 1000 (untuk mengkonversi ke kWh)\n",
        "    return (daya_perangkat * durasi_penggunaan) / 1000  # dalam kWh\n",
        "\n",
        "# Fungsi untuk meminta input dari pengguna\n",
        "def get_user_input():\n",
        "    # Meminta input dari pengguna\n",
        "    device_id = input(\"Masukkan Device ID: \")\n",
        "    device_type = input(\"Masukkan Device Type (misalnya, AC, Heater, Refrigerator): \")\n",
        "\n",
        "    # Input daya perangkat (Watt)\n",
        "    daya_perangkat = int(input(f\"Masukkan daya perangkat {device_type} (Watt): \"))\n",
        "    # Input durasi penggunaan (jam)\n",
        "    usage_duration = float(input(\"Masukkan Usage Duration (hour): \"))\n",
        "\n",
        "    # Menghitung konsumsi energi\n",
        "    energy_consumption = calculate_energy_consumption(daya_perangkat, usage_duration)\n",
        "\n",
        "    # Input daya listrik rumah\n",
        "    daya_listrik = int(input(\"Masukkan daya listrik rumah (450, 900, 1300, 2200): \"))\n",
        "\n",
        "    # Menghitung tarif per kWh berdasarkan daya listrik\n",
        "    tarif_per_kwh = get_tarif_per_kwh(daya_listrik)\n",
        "\n",
        "    # Menghitung Energy Cost (Rp)\n",
        "    energy_cost = energy_consumption * tarif_per_kwh  # Menggunakan tarif per kWh dari daya listrik\n",
        "\n",
        "    # Mengembalikan data dalam bentuk list (fitur input tanpa Device ID, Device Type, Timestamp, On/Off Status)\n",
        "    return [energy_consumption, usage_duration, energy_cost]  # Hanya mengembalikan 3 fitur\n",
        "\n",
        "\n",
        "# Mendapatkan input dari pengguna\n",
        "user_input = get_user_input()\n",
        "\n",
        "# Mengubah input menjadi array untuk prediksi\n",
        "X_new = np.array([user_input])  # Data fitur input sekarang (1, 3)\n",
        "\n",
        "# Model 1: NN dengan 1 hidden layer\n",
        "# Asumsi bahwa model1 sudah dilatih sebelumnya dengan data training yang relevan.\n",
        "model1 = Sequential([\n",
        "    Dense(16, activation='relu', input_shape=(3,)),  # input_dim=3 untuk 3 fitur input\n",
        "    Dense(1, activation='sigmoid')  # Output 1 untuk klasifikasi 0 atau 1\n",
        "])\n",
        "\n",
        "model1.compile(optimizer='adam', loss='binary_crossentropy', metrics=['accuracy'])\n",
        "\n",
        "# Melakukan prediksi dengan model yang sudah dilatih\n",
        "prediksi = model1.predict(X_new)\n",
        "\n",
        "# Menampilkan hasil prediksi\n",
        "print(f\"Hasil prediksi untuk data yang dimasukkan: {prediksi[0][0]} (Probabilitas efisien)\")\n",
        "\n",
        "# Menampilkan hasil prediksi sebagai 0 atau 1\n",
        "if prediksi[0][0] >= 0.5:\n",
        "    print(\"Prediksi: Perangkat Tidak Efisien (0)\")\n",
        "else:\n",
        "    print(\"Prediksi: Perangkat Efisien (1)\")"
      ],
      "metadata": {
        "colab": {
          "base_uri": "https://localhost:8080/"
        },
        "id": "zL822GBIxaWQ",
        "outputId": "4a88821c-b699-4fdc-ae38-831ebedd954f"
      },
      "execution_count": 26,
      "outputs": [
        {
          "output_type": "stream",
          "name": "stdout",
          "text": [
            "Masukkan Device ID: 78\n",
            "Masukkan Device Type (misalnya, AC, Heater, Refrigerator): Lights\n",
            "Masukkan daya perangkat Lights (Watt): 1000\n",
            "Masukkan Usage Duration (hour): 9\n",
            "Masukkan daya listrik rumah (450, 900, 1300, 2200): 2200\n",
            "\u001b[1m1/1\u001b[0m \u001b[32m━━━━━━━━━━━━━━━━━━━━\u001b[0m\u001b[37m\u001b[0m \u001b[1m0s\u001b[0m 74ms/step"
          ]
        },
        {
          "output_type": "stream",
          "name": "stderr",
          "text": [
            "/usr/local/lib/python3.11/dist-packages/keras/src/layers/core/dense.py:87: UserWarning: Do not pass an `input_shape`/`input_dim` argument to a layer. When using Sequential models, prefer using an `Input(shape)` object as the first layer in the model instead.\n",
            "  super().__init__(activity_regularizer=activity_regularizer, **kwargs)\n"
          ]
        },
        {
          "output_type": "stream",
          "name": "stdout",
          "text": [
            "\b\b\b\b\b\b\b\b\b\b\b\b\b\b\b\b\b\b\b\b\b\b\b\b\b\b\b\b\b\b\b\b\b\b\b\b\b\r\u001b[1m1/1\u001b[0m \u001b[32m━━━━━━━━━━━━━━━━━━━━\u001b[0m\u001b[37m\u001b[0m \u001b[1m0s\u001b[0m 102ms/step\n",
            "Hasil prediksi untuk data yang dimasukkan: 1.0 (Probabilitas efisien)\n",
            "Prediksi: Perangkat Tidak Efisien (0)\n"
          ]
        }
      ]
    },
    {
      "cell_type": "markdown",
      "source": [
        "**Output**"
      ],
      "metadata": {
        "id": "vuNRbopZhyLx"
      }
    },
    {
      "cell_type": "code",
      "source": [
        "# Diagram bar dataset\n",
        "\n",
        "# Pastikan kolom 'Timestamp' ada dan dalam format datetime\n",
        "coba['Timestamp'] = pd.to_datetime(coba['Timestamp'])\n",
        "\n",
        "# Ekstrak komponen tanggal\n",
        "coba['Date'] = coba['Timestamp'].dt.date\n",
        "coba['Month'] = coba['Timestamp'].dt.month\n",
        "coba['Year'] = coba['Timestamp'].dt.year\n",
        "\n",
        "# Diagram bar untuk jumlah data per bulan\n",
        "plt.figure(figsize=(10, 6))\n",
        "sns.countplot(x='Month', data=coba)\n",
        "plt.title('Distribusi Data per Bulan')\n",
        "plt.xlabel('Bulan')\n",
        "plt.ylabel('Jumlah Data')\n",
        "plt.xticks(ticks=range(12), labels=['Jan', 'Feb', 'Mar', 'Apr', 'May', 'Jun', 'Jul', 'Aug', 'Sep', 'Oct', 'Nov', 'Dec'])\n",
        "plt.show()\n",
        "\n",
        "# Diagram bar untuk jumlah data per tahun\n",
        "plt.figure(figsize=(8, 6))\n",
        "sns.countplot(x='Year', data=coba)\n",
        "plt.title('Distribusi Data per Tahun')\n",
        "plt.xlabel('Tahun')\n",
        "plt.ylabel('Jumlah Data')\n",
        "plt.show()\n"
      ],
      "metadata": {
        "id": "jW38umV0iFzA",
        "colab": {
          "base_uri": "https://localhost:8080/",
          "height": 1000
        },
        "outputId": "306b23f8-9530-4604-876b-d4f6ea750b54"
      },
      "execution_count": 18,
      "outputs": [
        {
          "output_type": "display_data",
          "data": {
            "text/plain": [
              "<Figure size 1000x600 with 1 Axes>"
            ],
            "image/png": "[encoded data removed]"
          },
          "metadata": {}
        },
        {
          "output_type": "display_data",
          "data": {
            "text/plain": [
              "<Figure size 800x600 with 1 Axes>"
            ],
            "image/png": "[encoded data removed]"
          },
          "metadata": {}
        }
      ]
    },
    {
      "cell_type": "code",
      "source": [
        "# Diagram garis tanggal 1 januari -31 januari 2024\n",
        "\n",
        "# Filtering data for January 2024\n",
        "january_2024_data = coba[(coba['Year'] == 2024) & (coba['Month'] == 1)]\n",
        "\n",
        "# Group by date and count the number of entries\n",
        "data_per_day_january = january_2024_data.groupby('Date').size()\n",
        "\n",
        "# Create a date range for January 1 to January 31, 2024\n",
        "january_dates = pd.date_range(start='2024-01-01', end='2024-01-31').date\n",
        "\n",
        "# Reindex the data_per_day_january to include all dates in January, filling missing dates with 0\n",
        "data_per_day_january = data_per_day_january.reindex(january_dates, fill_value=0)\n",
        "\n",
        "# Create the line plot\n",
        "plt.figure(figsize=(15, 6))\n",
        "data_per_day_january.plot(kind='line')\n",
        "plt.title('Jumlah Data per Hari di Bulan Januari 2024')\n",
        "plt.xlabel('Tanggal')\n",
        "plt.ylabel('Jumlah Data')\n",
        "plt.grid(True)\n",
        "plt.xticks(rotation=45)\n",
        "plt.tight_layout()\n",
        "plt.show()"
      ],
      "metadata": {
        "id": "eWSL86CfinIN",
        "colab": {
          "base_uri": "https://localhost:8080/",
          "height": 378
        },
        "outputId": "30ba7755-1d55-4a0a-ff8e-c45edbeb1d26"
      },
      "execution_count": 19,
      "outputs": [
        {
          "output_type": "display_data",
          "data": {
            "text/plain": [
              "<Figure size 1500x600 with 1 Axes>"
            ],
            "image/png": "[encoded data removed]"
          },
          "metadata": {}
        }
      ]
    },
    {
      "cell_type": "code",
      "source": [
        "# Menambahkan kolom 'Month' dan 'Year' dari kolom 'Timestamp' pada dataframe coba\n",
        "coba['Month'] = coba['Timestamp'].dt.month\n",
        "coba['Year'] = coba['Timestamp'].dt.year\n",
        "\n",
        "# Kelompokkan data berdasarkan bulan dan tahun\n",
        "monthly_analysis = coba.groupby(['Year', 'Month'])\n",
        "\n",
        "# Hitung rata-rata Energy Consumption dan Energy Cost per perangkat per bulan\n",
        "monthly_summary = monthly_analysis[['Energy Consumption (kWh)', 'Energy Cost (Rp)']].mean()\n",
        "\n",
        "def get_efficiency_result(group):\n",
        "    if group['SmartHomeEfficiency'].sum() > len(group) / 2:  # Jika mayoritas 0 (tidak hemat)\n",
        "        return 'Penggunaan Energy bulan ini TIDAK HEMAT (BOROS)'\n",
        "    else:\n",
        "        return 'Penggunaan Energy bulan ini HEMAT'  # Jika mayoritas 1 ( hemat)\n",
        "\n",
        "# Apply fungsi untuk menentukan mayoritas\n",
        "monthly_summary['Result'] = monthly_analysis.apply(get_efficiency_result)\n",
        "\n",
        "# Reset index agar kolom 'Year' dan 'Month' menjadi kolom biasa\n",
        "monthly_summary.reset_index(inplace=True)\n",
        "\n",
        "# Tampilkan hasil analisis bulanan\n",
        "print(\"\\nAnalisis Bulanan:\")\n",
        "print(monthly_summary)\n"
      ],
      "metadata": {
        "id": "Urp-aFFBojk4",
        "colab": {
          "base_uri": "https://localhost:8080/"
        },
        "outputId": "aaafe252-3258-426a-cef9-570378fbe694"
      },
      "execution_count": 20,
      "outputs": [
        {
          "output_type": "stream",
          "name": "stdout",
          "text": [
            "\n",
            "Analisis Bulanan:\n",
            "    Year  Month  Energy Consumption (kWh)  Energy Cost (Rp)  \\\n",
            "0   2024      1                  0.648365       1244.861245   \n",
            "1   2024      2                  0.634966       1219.134206   \n",
            "2   2024      3                  0.621812       1193.878237   \n",
            "3   2024      4                  0.616500       1183.679248   \n",
            "4   2024      5                  0.601145       1154.198834   \n",
            "5   2024      6                  0.609043       1169.363268   \n",
            "6   2024      7                  0.593311       1139.157379   \n",
            "7   2024      8                  0.631182       1211.869109   \n",
            "8   2024      9                  0.581982       1117.406250   \n",
            "9   2024     10                  0.545738       1047.817711   \n",
            "10  2024     11                  0.571094       1096.501135   \n",
            "11  2024     12                  3.152433       4386.415265   \n",
            "\n",
            "                                             Result  \n",
            "0                 Penggunaan Energy bulan ini HEMAT  \n",
            "1                 Penggunaan Energy bulan ini HEMAT  \n",
            "2                 Penggunaan Energy bulan ini HEMAT  \n",
            "3                 Penggunaan Energy bulan ini HEMAT  \n",
            "4                 Penggunaan Energy bulan ini HEMAT  \n",
            "5                 Penggunaan Energy bulan ini HEMAT  \n",
            "6                 Penggunaan Energy bulan ini HEMAT  \n",
            "7                 Penggunaan Energy bulan ini HEMAT  \n",
            "8                 Penggunaan Energy bulan ini HEMAT  \n",
            "9                 Penggunaan Energy bulan ini HEMAT  \n",
            "10                Penggunaan Energy bulan ini HEMAT  \n",
            "11  Penggunaan Energy bulan ini TIDAK HEMAT (BOROS)  \n"
          ]
        },
        {
          "output_type": "stream",
          "name": "stderr",
          "text": [
            "<ipython-input-20-2953634402>:18: DeprecationWarning: DataFrameGroupBy.apply operated on the grouping columns. This behavior is deprecated, and in a future version of pandas the grouping columns will be excluded from the operation. Either pass `include_groups=False` to exclude the groupings or explicitly select the grouping columns after groupby to silence this warning.\n",
            "  monthly_summary['Result'] = monthly_analysis.apply(get_efficiency_result)\n"
          ]
        }
      ]
    },
    {
      "cell_type": "code",
      "source": [
        "# Analisis bulanan\n",
        "\n",
        "def get_month_name(month_number):\n",
        "    month_names = {\n",
        "        1: 'Januari', 2: 'Februari', 3: 'Maret', 4: 'April',\n",
        "        5: 'Mei', 6: 'Juni', 7: 'Juli', 8: 'Agustus',\n",
        "        9: 'September', 10: 'Oktober', 11: 'November', 12: 'Desember'\n",
        "    }\n",
        "    return month_names.get(month_number, 'Bulan tidak valid')\n",
        "\n",
        "def analyze_month(data, year, month_number):\n",
        "    \"\"\"\n",
        "    Melakukan analisis bulanan untuk konsumsi dan biaya energi.\n",
        "\n",
        "    Args:\n",
        "        data (pd.DataFrame): DataFrame yang mengandung data energi.\n",
        "        year (int): Tahun yang akan dianalisis.\n",
        "        month_number (int): Nomor bulan yang akan dianalisis (1-12).\n",
        "    \"\"\"\n",
        "    month_name = get_month_name(month_number)\n",
        "\n",
        "    # Filter data untuk tahun dan bulan yang dipilih\n",
        "    monthly_data = data[(data['Year'] == year) & (data['Month'] == month_number)]\n",
        "\n",
        "    if monthly_data.empty:\n",
        "        print(f\"\\nTidak ada data untuk bulan {month_name} tahun {year}.\")\n",
        "        return\n",
        "\n",
        "    # Hitung rata-rata Energy Consumption dan Energy Cost per perangkat\n",
        "    avg_energy_consumption_per_device = monthly_data['Energy Consumption (kWh)'].mean()\n",
        "    avg_energy_cost_per_device = monthly_data['Energy Cost (Rp)'].mean()\n",
        "\n",
        "    print(f\"\\nAnalisis untuk Bulan: {month_name} {year}\")\n",
        "    print(f\"Energy Consumption (Rata-rata energyconsumption perdevice): {avg_energy_consumption_per_device:.4f} kWh\")\n",
        "    print(f\"Energy Cost (Rata-rata energycost perdevice): Rp {avg_energy_cost_per_device:,.2f}\")\n",
        "\n",
        "    # Menentukan efisiensi bulan berdasarkan mayoritas SmartHomeEfficiency\n",
        "    efficiency_counts = monthly_data['SmartHomeEfficiency'].value_counts()\n",
        "    if 0 in efficiency_counts and 1 in efficiency_counts:\n",
        "      if efficiency_counts[0] > efficiency_counts[1]:\n",
        "          print(\"Hasil Efisiensi: Penggunaan Energy bulan ini HEMAT\")\n",
        "      else:\n",
        "          print(\"Hasil Efisiensi: Penggunaan Energy bulan ini TIDAK HEMAT\")\n",
        "    elif 0 in efficiency_counts:\n",
        "         print(\"Hasil Efisiensi: Penggunaan Energy bulan ini HEMAT\")\n",
        "    elif 1 in efficiency_counts:\n",
        "         print(\"Hasil Efisiensi: Penggunaan Energy bulan ini TIDAK HEMAT\")\n",
        "    else:\n",
        "         print(\"Tidak ada data efisiensi untuk bulan ini.\")\n",
        "\n",
        "\n",
        "analyze_month(coba, 2024, 1)\n"
      ],
      "metadata": {
        "id": "Mir10aS5ndEw",
        "colab": {
          "base_uri": "https://localhost:8080/"
        },
        "outputId": "6049028d-0b90-4467-8b38-00d49f3b89bb"
      },
      "execution_count": 21,
      "outputs": [
        {
          "output_type": "stream",
          "name": "stdout",
          "text": [
            "\n",
            "Analisis untuk Bulan: Januari 2024\n",
            "Energy Consumption (Rata-rata energyconsumption perdevice): 0.6484 kWh\n",
            "Energy Cost (Rata-rata energycost perdevice): Rp 1,244.86\n",
            "Hasil Efisiensi: Penggunaan Energy bulan ini HEMAT\n"
          ]
        }
      ]
    },
    {
      "cell_type": "markdown",
      "source": [
        "### Convert menyimpan model"
      ],
      "metadata": {
        "id": "a8A_RTZ5JWHX"
      }
    },
    {
      "cell_type": "code",
      "source": [
        "# Menyimpan model ke dalam format TensorFlow.js\n",
        "tfjs.converters.save_keras_model(model1, 'path_to_save_model/tfjs_model')\n"
      ],
      "metadata": {
        "id": "v0zdbVd6_rTy",
        "colab": {
          "base_uri": "https://localhost:8080/"
        },
        "outputId": "e1c1c9e1-559f-495c-ab8f-9aee74ff0a7e"
      },
      "execution_count": 22,
      "outputs": [
        {
          "output_type": "stream",
          "name": "stderr",
          "text": [
            "WARNING:absl:You are saving your model as an HDF5 file via `model.save()` or `keras.saving.save_model(model)`. This file format is considered legacy. We recommend using instead the native Keras format, e.g. `model.save('my_model.keras')` or `keras.saving.save_model(model, 'my_model.keras')`. \n"
          ]
        },
        {
          "output_type": "stream",
          "name": "stdout",
          "text": [
            "failed to lookup keras version from the file,\n",
            "    this is likely a weight only file\n"
          ]
        }
      ]
    },
    {
      "cell_type": "code",
      "source": [
        "# Menyimpan model ke dalam format JSON\n",
        "model_json = model1.to_json()\n",
        "\n",
        "# Menyimpan model JSON ke file\n",
        "with open(\"model1.json\", \"w\") as json_file:\n",
        "    json_file.write(model_json)\n"
      ],
      "metadata": {
        "id": "NVv-Jxqp_vQT"
      },
      "execution_count": 23,
      "outputs": []
    },
    {
      "cell_type": "code",
      "source": [
        "# Menyimpan bobot model ke dalam file HDF5\n",
        "model1.save_weights(\"model1.weights.h5\")\n"
      ],
      "metadata": {
        "id": "FjQxCzA4_yEi"
      },
      "execution_count": 24,
      "outputs": []
    },
    {
      "source": [
        "# Save the trained model to an HDF5 file\n",
        "model1.save('model.h5')\n",
        "print(\"Model model1 telah disimpan sebagai model.h5\")"
      ],
      "cell_type": "code",
      "metadata": {
        "id": "6hfsLs4yMBwh",
        "outputId": "bc635be0-263f-4cb8-ebee-e5b66df86a4d",
        "colab": {
          "base_uri": "https://localhost:8080/"
        }
      },
      "execution_count": 31,
      "outputs": [
        {
          "output_type": "stream",
          "name": "stderr",
          "text": [
            "WARNING:absl:You are saving your model as an HDF5 file via `model.save()` or `keras.saving.save_model(model)`. This file format is considered legacy. We recommend using instead the native Keras format, e.g. `model.save('my_model.keras')` or `keras.saving.save_model(model, 'my_model.keras')`. \n"
          ]
        },
        {
          "output_type": "stream",
          "name": "stdout",
          "text": [
            "Model model1 telah disimpan sebagai model.h5\n"
          ]
        }
      ]
    }
  ]
}